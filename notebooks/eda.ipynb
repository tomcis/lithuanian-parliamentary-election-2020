{
 "cells": [
  {
   "cell_type": "code",
   "execution_count": 50,
   "metadata": {
    "execution": {
     "iopub.execute_input": "2020-07-19T14:43:40.251871Z",
     "iopub.status.busy": "2020-07-19T14:43:40.251612Z",
     "iopub.status.idle": "2020-07-19T14:43:40.255267Z",
     "shell.execute_reply": "2020-07-19T14:43:40.254307Z",
     "shell.execute_reply.started": "2020-07-19T14:43:40.251830Z"
    }
   },
   "outputs": [],
   "source": [
    "import pandas as pd"
   ]
  },
  {
   "cell_type": "code",
   "execution_count": 51,
   "metadata": {
    "execution": {
     "iopub.execute_input": "2020-07-19T14:43:40.380674Z",
     "iopub.status.busy": "2020-07-19T14:43:40.380417Z",
     "iopub.status.idle": "2020-07-19T14:43:40.392272Z",
     "shell.execute_reply": "2020-07-19T14:43:40.391156Z",
     "shell.execute_reply.started": "2020-07-19T14:43:40.380633Z"
    }
   },
   "outputs": [],
   "source": [
    "df = pd.read_csv(\"data/seimas_2016.csv\", skiprows=1, header=None)"
   ]
  },
  {
   "cell_type": "code",
   "execution_count": 52,
   "metadata": {
    "execution": {
     "iopub.execute_input": "2020-07-19T14:43:40.534216Z",
     "iopub.status.busy": "2020-07-19T14:43:40.533951Z",
     "iopub.status.idle": "2020-07-19T14:43:40.541306Z",
     "shell.execute_reply": "2020-07-19T14:43:40.540272Z",
     "shell.execute_reply.started": "2020-07-19T14:43:40.534175Z"
    }
   },
   "outputs": [],
   "source": [
    "df = df.drop(columns=[0, 4, 6, 7]).rename(columns={1: \"political_party\", 2: \"before\", 3: \"name\", 5: \"after\"})"
   ]
  },
  {
   "cell_type": "code",
   "execution_count": 53,
   "metadata": {
    "execution": {
     "iopub.execute_input": "2020-07-19T14:43:40.701771Z",
     "iopub.status.busy": "2020-07-19T14:43:40.701523Z",
     "iopub.status.idle": "2020-07-19T14:43:40.715246Z",
     "shell.execute_reply": "2020-07-19T14:43:40.714643Z",
     "shell.execute_reply.started": "2020-07-19T14:43:40.701732Z"
    }
   },
   "outputs": [
    {
     "data": {
      "text/html": [
       "<div>\n",
       "<style scoped>\n",
       "    .dataframe tbody tr th:only-of-type {\n",
       "        vertical-align: middle;\n",
       "    }\n",
       "\n",
       "    .dataframe tbody tr th {\n",
       "        vertical-align: top;\n",
       "    }\n",
       "\n",
       "    .dataframe thead th {\n",
       "        text-align: right;\n",
       "    }\n",
       "</style>\n",
       "<table border=\"1\" class=\"dataframe\">\n",
       "  <thead>\n",
       "    <tr style=\"text-align: right;\">\n",
       "      <th></th>\n",
       "      <th>political_party</th>\n",
       "      <th>before</th>\n",
       "      <th>name</th>\n",
       "      <th>after</th>\n",
       "    </tr>\n",
       "  </thead>\n",
       "  <tbody>\n",
       "    <tr>\n",
       "      <td>0</td>\n",
       "      <td>Tėvynės sąjunga - Lietuvos krikščionys demokratai</td>\n",
       "      <td>1</td>\n",
       "      <td>GABRIELIUS LANDSBERGIS (V)</td>\n",
       "      <td>1</td>\n",
       "    </tr>\n",
       "    <tr>\n",
       "      <td>1</td>\n",
       "      <td>Tėvynės sąjunga - Lietuvos krikščionys demokratai</td>\n",
       "      <td>2</td>\n",
       "      <td>INGRIDA ŠIMONYTĖ (V)</td>\n",
       "      <td>4</td>\n",
       "    </tr>\n",
       "    <tr>\n",
       "      <td>2</td>\n",
       "      <td>Tėvynės sąjunga - Lietuvos krikščionys demokratai</td>\n",
       "      <td>3</td>\n",
       "      <td>ANDRIUS KUBILIUS</td>\n",
       "      <td>3</td>\n",
       "    </tr>\n",
       "    <tr>\n",
       "      <td>3</td>\n",
       "      <td>Tėvynės sąjunga - Lietuvos krikščionys demokratai</td>\n",
       "      <td>4</td>\n",
       "      <td>IRENA DEGUTIENĖ</td>\n",
       "      <td>2</td>\n",
       "    </tr>\n",
       "    <tr>\n",
       "      <td>4</td>\n",
       "      <td>Tėvynės sąjunga - Lietuvos krikščionys demokratai</td>\n",
       "      <td>5</td>\n",
       "      <td>AGNĖ BILOTAITĖ</td>\n",
       "      <td>5</td>\n",
       "    </tr>\n",
       "    <tr>\n",
       "      <td>...</td>\n",
       "      <td>...</td>\n",
       "      <td>...</td>\n",
       "      <td>...</td>\n",
       "      <td>...</td>\n",
       "    </tr>\n",
       "    <tr>\n",
       "      <td>1380</td>\n",
       "      <td>„Drąsos kelias“ politinė partija</td>\n",
       "      <td>28</td>\n",
       "      <td>VIRGINIJUS GIRUTIS</td>\n",
       "      <td>26</td>\n",
       "    </tr>\n",
       "    <tr>\n",
       "      <td>1381</td>\n",
       "      <td>„Drąsos kelias“ politinė partija</td>\n",
       "      <td>29</td>\n",
       "      <td>DONATA LINIAUSKIENĖ</td>\n",
       "      <td>28</td>\n",
       "    </tr>\n",
       "    <tr>\n",
       "      <td>1382</td>\n",
       "      <td>„Drąsos kelias“ politinė partija</td>\n",
       "      <td>30</td>\n",
       "      <td>NERINGA BALIUKONIENĖ</td>\n",
       "      <td>29</td>\n",
       "    </tr>\n",
       "    <tr>\n",
       "      <td>1383</td>\n",
       "      <td>„Drąsos kelias“ politinė partija</td>\n",
       "      <td>31</td>\n",
       "      <td>DŽENETA MARKAUSKAITĖ</td>\n",
       "      <td>30</td>\n",
       "    </tr>\n",
       "    <tr>\n",
       "      <td>1384</td>\n",
       "      <td>„Drąsos kelias“ politinė partija</td>\n",
       "      <td>32</td>\n",
       "      <td>ZETA ŠTARKEVIČIENĖ</td>\n",
       "      <td>31</td>\n",
       "    </tr>\n",
       "  </tbody>\n",
       "</table>\n",
       "<p>1385 rows × 4 columns</p>\n",
       "</div>"
      ],
      "text/plain": [
       "                                        political_party  before  \\\n",
       "0     Tėvynės sąjunga - Lietuvos krikščionys demokratai       1   \n",
       "1     Tėvynės sąjunga - Lietuvos krikščionys demokratai       2   \n",
       "2     Tėvynės sąjunga - Lietuvos krikščionys demokratai       3   \n",
       "3     Tėvynės sąjunga - Lietuvos krikščionys demokratai       4   \n",
       "4     Tėvynės sąjunga - Lietuvos krikščionys demokratai       5   \n",
       "...                                                 ...     ...   \n",
       "1380                   „Drąsos kelias“ politinė partija      28   \n",
       "1381                   „Drąsos kelias“ politinė partija      29   \n",
       "1382                   „Drąsos kelias“ politinė partija      30   \n",
       "1383                   „Drąsos kelias“ politinė partija      31   \n",
       "1384                   „Drąsos kelias“ politinė partija      32   \n",
       "\n",
       "                             name  after  \n",
       "0     GABRIELIUS LANDSBERGIS (V)       1  \n",
       "1           INGRIDA ŠIMONYTĖ (V)       4  \n",
       "2               ANDRIUS KUBILIUS       3  \n",
       "3                IRENA DEGUTIENĖ       2  \n",
       "4                 AGNĖ BILOTAITĖ       5  \n",
       "...                           ...    ...  \n",
       "1380          VIRGINIJUS GIRUTIS      26  \n",
       "1381         DONATA LINIAUSKIENĖ      28  \n",
       "1382        NERINGA BALIUKONIENĖ      29  \n",
       "1383        DŽENETA MARKAUSKAITĖ      30  \n",
       "1384          ZETA ŠTARKEVIČIENĖ      31  \n",
       "\n",
       "[1385 rows x 4 columns]"
      ]
     },
     "execution_count": 53,
     "metadata": {},
     "output_type": "execute_result"
    }
   ],
   "source": [
    "df"
   ]
  },
  {
   "cell_type": "code",
   "execution_count": 54,
   "metadata": {
    "execution": {
     "iopub.execute_input": "2020-07-19T14:43:44.124865Z",
     "iopub.status.busy": "2020-07-19T14:43:44.124608Z",
     "iopub.status.idle": "2020-07-19T14:43:44.130434Z",
     "shell.execute_reply": "2020-07-19T14:43:44.129280Z",
     "shell.execute_reply.started": "2020-07-19T14:43:44.124819Z"
    }
   },
   "outputs": [],
   "source": [
    "df.political_party = df.political_party.astype(\"category\")"
   ]
  },
  {
   "cell_type": "code",
   "execution_count": 65,
   "metadata": {
    "execution": {
     "iopub.execute_input": "2020-07-19T14:48:54.914639Z",
     "iopub.status.busy": "2020-07-19T14:48:54.914369Z",
     "iopub.status.idle": "2020-07-19T14:48:54.920277Z",
     "shell.execute_reply": "2020-07-19T14:48:54.919339Z",
     "shell.execute_reply.started": "2020-07-19T14:48:54.914597Z"
    }
   },
   "outputs": [
    {
     "data": {
      "text/plain": [
       "['Antikorupcinė N. Puteikio ir K. Krivicko koalicija (Lietuvos centro partija, Lietuvos pensininkų partija)',\n",
       " 'Darbo partija',\n",
       " 'Lietuvos Respublikos liberalų sąjūdis',\n",
       " 'Lietuvos laisvės sąjunga (liberalai)',\n",
       " 'Lietuvos lenkų rinkimų akcija-Krikščioniškų šeimų sąjunga',\n",
       " 'Lietuvos liaudies partija',\n",
       " 'Lietuvos socialdemokratų partija',\n",
       " 'Lietuvos valstiečių ir žaliųjų sąjunga',\n",
       " 'Lietuvos žaliųjų partija',\n",
       " 'Partija Tvarka ir teisingumas',\n",
       " 'Politinė partija „Lietuvos sąrašas“',\n",
       " 'S. Buškevičiaus ir Tautininkų koalicija „Prieš korupciją ir skurdą“ (Partija „Jaunoji Lietuva“, Tautininkų sąjunga)',\n",
       " 'Tėvynės sąjunga - Lietuvos krikščionys demokratai',\n",
       " '„Drąsos kelias“ politinė partija']"
      ]
     },
     "execution_count": 65,
     "metadata": {},
     "output_type": "execute_result"
    }
   ],
   "source": [
    "list(df.political_party.cat.categories)"
   ]
  },
  {
   "cell_type": "code",
   "execution_count": 56,
   "metadata": {
    "execution": {
     "iopub.execute_input": "2020-07-19T14:43:44.443075Z",
     "iopub.status.busy": "2020-07-19T14:43:44.442825Z",
     "iopub.status.idle": "2020-07-19T14:43:44.447832Z",
     "shell.execute_reply": "2020-07-19T14:43:44.447034Z",
     "shell.execute_reply.started": "2020-07-19T14:43:44.443035Z"
    }
   },
   "outputs": [
    {
     "data": {
      "text/plain": [
       "14"
      ]
     },
     "execution_count": 56,
     "metadata": {},
     "output_type": "execute_result"
    }
   ],
   "source": [
    "len(df.political_party.cat.categories)"
   ]
  },
  {
   "cell_type": "code",
   "execution_count": 57,
   "metadata": {
    "execution": {
     "iopub.execute_input": "2020-07-19T14:43:44.592395Z",
     "iopub.status.busy": "2020-07-19T14:43:44.592157Z",
     "iopub.status.idle": "2020-07-19T14:43:44.610157Z",
     "shell.execute_reply": "2020-07-19T14:43:44.609170Z",
     "shell.execute_reply.started": "2020-07-19T14:43:44.592356Z"
    }
   },
   "outputs": [
    {
     "data": {
      "text/html": [
       "<div>\n",
       "<style scoped>\n",
       "    .dataframe tbody tr th:only-of-type {\n",
       "        vertical-align: middle;\n",
       "    }\n",
       "\n",
       "    .dataframe tbody tr th {\n",
       "        vertical-align: top;\n",
       "    }\n",
       "\n",
       "    .dataframe thead th {\n",
       "        text-align: right;\n",
       "    }\n",
       "</style>\n",
       "<table border=\"1\" class=\"dataframe\">\n",
       "  <thead>\n",
       "    <tr style=\"text-align: right;\">\n",
       "      <th></th>\n",
       "      <th>political_party</th>\n",
       "      <th>before</th>\n",
       "      <th>name</th>\n",
       "      <th>after</th>\n",
       "    </tr>\n",
       "  </thead>\n",
       "  <tbody>\n",
       "    <tr>\n",
       "      <td>0</td>\n",
       "      <td>Tėvynės sąjunga - Lietuvos krikščionys demokratai</td>\n",
       "      <td>1</td>\n",
       "      <td>GABRIELIUS LANDSBERGIS (V)</td>\n",
       "      <td>1</td>\n",
       "    </tr>\n",
       "    <tr>\n",
       "      <td>1</td>\n",
       "      <td>Tėvynės sąjunga - Lietuvos krikščionys demokratai</td>\n",
       "      <td>2</td>\n",
       "      <td>INGRIDA ŠIMONYTĖ (V)</td>\n",
       "      <td>4</td>\n",
       "    </tr>\n",
       "    <tr>\n",
       "      <td>2</td>\n",
       "      <td>Tėvynės sąjunga - Lietuvos krikščionys demokratai</td>\n",
       "      <td>3</td>\n",
       "      <td>ANDRIUS KUBILIUS</td>\n",
       "      <td>3</td>\n",
       "    </tr>\n",
       "    <tr>\n",
       "      <td>3</td>\n",
       "      <td>Tėvynės sąjunga - Lietuvos krikščionys demokratai</td>\n",
       "      <td>4</td>\n",
       "      <td>IRENA DEGUTIENĖ</td>\n",
       "      <td>2</td>\n",
       "    </tr>\n",
       "    <tr>\n",
       "      <td>4</td>\n",
       "      <td>Tėvynės sąjunga - Lietuvos krikščionys demokratai</td>\n",
       "      <td>5</td>\n",
       "      <td>AGNĖ BILOTAITĖ</td>\n",
       "      <td>5</td>\n",
       "    </tr>\n",
       "    <tr>\n",
       "      <td>...</td>\n",
       "      <td>...</td>\n",
       "      <td>...</td>\n",
       "      <td>...</td>\n",
       "      <td>...</td>\n",
       "    </tr>\n",
       "    <tr>\n",
       "      <td>135</td>\n",
       "      <td>Tėvynės sąjunga - Lietuvos krikščionys demokratai</td>\n",
       "      <td>136</td>\n",
       "      <td>VIDA STASĖ SKARELIENĖ</td>\n",
       "      <td>89</td>\n",
       "    </tr>\n",
       "    <tr>\n",
       "      <td>136</td>\n",
       "      <td>Tėvynės sąjunga - Lietuvos krikščionys demokratai</td>\n",
       "      <td>137</td>\n",
       "      <td>DARIUS ŠEŠKEVIČIUS</td>\n",
       "      <td>125</td>\n",
       "    </tr>\n",
       "    <tr>\n",
       "      <td>137</td>\n",
       "      <td>Tėvynės sąjunga - Lietuvos krikščionys demokratai</td>\n",
       "      <td>138</td>\n",
       "      <td>VIKTORAS GANUSAUSKAS</td>\n",
       "      <td>120</td>\n",
       "    </tr>\n",
       "    <tr>\n",
       "      <td>138</td>\n",
       "      <td>Tėvynės sąjunga - Lietuvos krikščionys demokratai</td>\n",
       "      <td>139</td>\n",
       "      <td>EDGARAS NORGELA</td>\n",
       "      <td>122</td>\n",
       "    </tr>\n",
       "    <tr>\n",
       "      <td>139</td>\n",
       "      <td>Tėvynės sąjunga - Lietuvos krikščionys demokratai</td>\n",
       "      <td>140</td>\n",
       "      <td>ALDONA JANUŠEVIČIENĖ</td>\n",
       "      <td>78</td>\n",
       "    </tr>\n",
       "  </tbody>\n",
       "</table>\n",
       "<p>140 rows × 4 columns</p>\n",
       "</div>"
      ],
      "text/plain": [
       "                                       political_party  before  \\\n",
       "0    Tėvynės sąjunga - Lietuvos krikščionys demokratai       1   \n",
       "1    Tėvynės sąjunga - Lietuvos krikščionys demokratai       2   \n",
       "2    Tėvynės sąjunga - Lietuvos krikščionys demokratai       3   \n",
       "3    Tėvynės sąjunga - Lietuvos krikščionys demokratai       4   \n",
       "4    Tėvynės sąjunga - Lietuvos krikščionys demokratai       5   \n",
       "..                                                 ...     ...   \n",
       "135  Tėvynės sąjunga - Lietuvos krikščionys demokratai     136   \n",
       "136  Tėvynės sąjunga - Lietuvos krikščionys demokratai     137   \n",
       "137  Tėvynės sąjunga - Lietuvos krikščionys demokratai     138   \n",
       "138  Tėvynės sąjunga - Lietuvos krikščionys demokratai     139   \n",
       "139  Tėvynės sąjunga - Lietuvos krikščionys demokratai     140   \n",
       "\n",
       "                            name  after  \n",
       "0    GABRIELIUS LANDSBERGIS (V)       1  \n",
       "1          INGRIDA ŠIMONYTĖ (V)       4  \n",
       "2              ANDRIUS KUBILIUS       3  \n",
       "3               IRENA DEGUTIENĖ       2  \n",
       "4                AGNĖ BILOTAITĖ       5  \n",
       "..                           ...    ...  \n",
       "135       VIDA STASĖ SKARELIENĖ      89  \n",
       "136          DARIUS ŠEŠKEVIČIUS     125  \n",
       "137        VIKTORAS GANUSAUSKAS     120  \n",
       "138             EDGARAS NORGELA     122  \n",
       "139        ALDONA JANUŠEVIČIENĖ      78  \n",
       "\n",
       "[140 rows x 4 columns]"
      ]
     },
     "execution_count": 57,
     "metadata": {},
     "output_type": "execute_result"
    }
   ],
   "source": [
    "df.query(\"political_party == 'Tėvynės sąjunga - Lietuvos krikščionys demokratai'\")"
   ]
  },
  {
   "cell_type": "code",
   "execution_count": 58,
   "metadata": {
    "execution": {
     "iopub.execute_input": "2020-07-19T14:43:45.504269Z",
     "iopub.status.busy": "2020-07-19T14:43:45.504014Z",
     "iopub.status.idle": "2020-07-19T14:43:45.510085Z",
     "shell.execute_reply": "2020-07-19T14:43:45.509129Z",
     "shell.execute_reply.started": "2020-07-19T14:43:45.504230Z"
    }
   },
   "outputs": [],
   "source": [
    "df[\"diff\"] = df.before - df.after"
   ]
  },
  {
   "cell_type": "code",
   "execution_count": 66,
   "metadata": {
    "execution": {
     "iopub.execute_input": "2020-07-19T14:51:57.230282Z",
     "iopub.status.busy": "2020-07-19T14:51:57.230045Z",
     "iopub.status.idle": "2020-07-19T14:51:57.244548Z",
     "shell.execute_reply": "2020-07-19T14:51:57.243728Z",
     "shell.execute_reply.started": "2020-07-19T14:51:57.230244Z"
    }
   },
   "outputs": [
    {
     "data": {
      "text/html": [
       "<div>\n",
       "<style scoped>\n",
       "    .dataframe tbody tr th:only-of-type {\n",
       "        vertical-align: middle;\n",
       "    }\n",
       "\n",
       "    .dataframe tbody tr th {\n",
       "        vertical-align: top;\n",
       "    }\n",
       "\n",
       "    .dataframe thead th {\n",
       "        text-align: right;\n",
       "    }\n",
       "</style>\n",
       "<table border=\"1\" class=\"dataframe\">\n",
       "  <thead>\n",
       "    <tr style=\"text-align: right;\">\n",
       "      <th></th>\n",
       "      <th>political_party</th>\n",
       "      <th>before</th>\n",
       "      <th>name</th>\n",
       "      <th>after</th>\n",
       "      <th>diff</th>\n",
       "    </tr>\n",
       "  </thead>\n",
       "  <tbody>\n",
       "    <tr>\n",
       "      <td>451</td>\n",
       "      <td>Lietuvos Respublikos liberalų sąjūdis</td>\n",
       "      <td>34</td>\n",
       "      <td>EGIDIJUS PAPEČKYS</td>\n",
       "      <td>141</td>\n",
       "      <td>-107</td>\n",
       "    </tr>\n",
       "    <tr>\n",
       "      <td>453</td>\n",
       "      <td>Lietuvos Respublikos liberalų sąjūdis</td>\n",
       "      <td>36</td>\n",
       "      <td>ASTA ULINSKAITĖ</td>\n",
       "      <td>140</td>\n",
       "      <td>-104</td>\n",
       "    </tr>\n",
       "    <tr>\n",
       "      <td>480</td>\n",
       "      <td>Lietuvos Respublikos liberalų sąjūdis</td>\n",
       "      <td>63</td>\n",
       "      <td>GINTARAS KLEIZA</td>\n",
       "      <td>136</td>\n",
       "      <td>-73</td>\n",
       "    </tr>\n",
       "    <tr>\n",
       "      <td>445</td>\n",
       "      <td>Lietuvos Respublikos liberalų sąjūdis</td>\n",
       "      <td>28</td>\n",
       "      <td>SKIRMANTAS TUMELIS</td>\n",
       "      <td>98</td>\n",
       "      <td>-70</td>\n",
       "    </tr>\n",
       "    <tr>\n",
       "      <td>492</td>\n",
       "      <td>Lietuvos Respublikos liberalų sąjūdis</td>\n",
       "      <td>75</td>\n",
       "      <td>GINTAUTAS KRILAVIČIUS</td>\n",
       "      <td>139</td>\n",
       "      <td>-64</td>\n",
       "    </tr>\n",
       "    <tr>\n",
       "      <td>439</td>\n",
       "      <td>Lietuvos Respublikos liberalų sąjūdis</td>\n",
       "      <td>22</td>\n",
       "      <td>MARIUS GOROCHOVSKIS</td>\n",
       "      <td>78</td>\n",
       "      <td>-56</td>\n",
       "    </tr>\n",
       "    <tr>\n",
       "      <td>493</td>\n",
       "      <td>Lietuvos Respublikos liberalų sąjūdis</td>\n",
       "      <td>76</td>\n",
       "      <td>SAULIUS LIEKIS</td>\n",
       "      <td>123</td>\n",
       "      <td>-47</td>\n",
       "    </tr>\n",
       "    <tr>\n",
       "      <td>509</td>\n",
       "      <td>Lietuvos Respublikos liberalų sąjūdis</td>\n",
       "      <td>92</td>\n",
       "      <td>MARIUS GURSKAS</td>\n",
       "      <td>137</td>\n",
       "      <td>-45</td>\n",
       "    </tr>\n",
       "    <tr>\n",
       "      <td>489</td>\n",
       "      <td>Lietuvos Respublikos liberalų sąjūdis</td>\n",
       "      <td>72</td>\n",
       "      <td>VILIJA GUCEVIČIŪTĖ</td>\n",
       "      <td>116</td>\n",
       "      <td>-44</td>\n",
       "    </tr>\n",
       "    <tr>\n",
       "      <td>508</td>\n",
       "      <td>Lietuvos Respublikos liberalų sąjūdis</td>\n",
       "      <td>91</td>\n",
       "      <td>MINDAUGAS MAČERNIS</td>\n",
       "      <td>133</td>\n",
       "      <td>-42</td>\n",
       "    </tr>\n",
       "  </tbody>\n",
       "</table>\n",
       "</div>"
      ],
      "text/plain": [
       "                           political_party  before                    name  \\\n",
       "451  Lietuvos Respublikos liberalų sąjūdis      34      EGIDIJUS PAPEČKYS    \n",
       "453  Lietuvos Respublikos liberalų sąjūdis      36        ASTA ULINSKAITĖ    \n",
       "480  Lietuvos Respublikos liberalų sąjūdis      63        GINTARAS KLEIZA    \n",
       "445  Lietuvos Respublikos liberalų sąjūdis      28     SKIRMANTAS TUMELIS    \n",
       "492  Lietuvos Respublikos liberalų sąjūdis      75  GINTAUTAS KRILAVIČIUS    \n",
       "439  Lietuvos Respublikos liberalų sąjūdis      22    MARIUS GOROCHOVSKIS    \n",
       "493  Lietuvos Respublikos liberalų sąjūdis      76         SAULIUS LIEKIS    \n",
       "509  Lietuvos Respublikos liberalų sąjūdis      92         MARIUS GURSKAS    \n",
       "489  Lietuvos Respublikos liberalų sąjūdis      72     VILIJA GUCEVIČIŪTĖ    \n",
       "508  Lietuvos Respublikos liberalų sąjūdis      91     MINDAUGAS MAČERNIS    \n",
       "\n",
       "     after  diff  \n",
       "451    141  -107  \n",
       "453    140  -104  \n",
       "480    136   -73  \n",
       "445     98   -70  \n",
       "492    139   -64  \n",
       "439     78   -56  \n",
       "493    123   -47  \n",
       "509    137   -45  \n",
       "489    116   -44  \n",
       "508    133   -42  "
      ]
     },
     "execution_count": 66,
     "metadata": {},
     "output_type": "execute_result"
    }
   ],
   "source": [
    "df.query(\"political_party == 'Lietuvos Respublikos liberalų sąjūdis'\").nsmallest(10, \"diff\")"
   ]
  },
  {
   "cell_type": "code",
   "execution_count": null,
   "metadata": {},
   "outputs": [],
   "source": []
  }
 ],
 "metadata": {
  "kernelspec": {
   "display_name": "Python 3",
   "language": "python",
   "name": "python3"
  },
  "language_info": {
   "codemirror_mode": {
    "name": "ipython",
    "version": 3
   },
   "file_extension": ".py",
   "mimetype": "text/x-python",
   "name": "python",
   "nbconvert_exporter": "python",
   "pygments_lexer": "ipython3",
   "version": "3.7.7"
  }
 },
 "nbformat": 4,
 "nbformat_minor": 4
}