{
 "cells": [
  {
   "cell_type": "code",
   "execution_count": null,
   "metadata": {},
   "outputs": [],
   "source": [
    "!pip3 install chromedriver-binary==\"v85.0.4183.87.0\" selenium bs4"
   ]
  },
  {
   "cell_type": "markdown",
   "metadata": {},
   "source": [
    "## Logging in and retrieving page source code"
   ]
  },
  {
   "cell_type": "code",
   "execution_count": 3,
   "metadata": {
    "execution": {
     "iopub.execute_input": "2020-10-12T22:53:09.614506Z",
     "iopub.status.busy": "2020-10-12T22:53:09.614251Z",
     "iopub.status.idle": "2020-10-12T22:53:14.098004Z",
     "shell.execute_reply": "2020-10-12T22:53:14.096911Z",
     "shell.execute_reply.started": "2020-10-12T22:53:09.614475Z"
    }
   },
   "outputs": [],
   "source": [
    "from selenium import webdriver\n",
    "\n",
    "from selenium.webdriver.chrome.options import Options\n",
    "\n",
    "import chromedriver_binary\n",
    "\n",
    "WINDOW_SIZE = \"1920,1080\"\n",
    "\n",
    "chrome_options = Options()\n",
    "# chrome_options.add_argument(\"--headless\")\n",
    "chrome_options.add_argument(\"--window-size=%s\" % WINDOW_SIZE)\n",
    "chrome_options.add_argument('--no-sandbox')\n",
    "chrome_options.add_argument('--disable-dev-shm-usage')\n",
    "\n",
    "# specifies the path to the chromedriver.exe\n",
    "driver = webdriver.Chrome(options=chrome_options)"
   ]
  },
  {
   "cell_type": "code",
   "execution_count": 10,
   "metadata": {
    "execution": {
     "iopub.execute_input": "2020-10-12T22:53:30.510314Z",
     "iopub.status.busy": "2020-10-12T22:53:30.510062Z",
     "iopub.status.idle": "2020-10-12T22:53:30.742167Z",
     "shell.execute_reply": "2020-10-12T22:53:30.741517Z",
     "shell.execute_reply.started": "2020-10-12T22:53:30.510287Z"
    }
   },
   "outputs": [],
   "source": [
    "driver.get('https://rezultatai.vrk.lt/?srcUrl=/rinkimai/1104/1/1746/rezultatai/lt/rezultataiVienm.html')"
   ]
  },
  {
   "cell_type": "code",
   "execution_count": 11,
   "metadata": {
    "execution": {
     "iopub.execute_input": "2020-10-12T22:53:30.934651Z",
     "iopub.status.busy": "2020-10-12T22:53:30.934393Z",
     "iopub.status.idle": "2020-10-12T22:53:30.947285Z",
     "shell.execute_reply": "2020-10-12T22:53:30.946471Z",
     "shell.execute_reply.started": "2020-10-12T22:53:30.934625Z"
    }
   },
   "outputs": [],
   "source": [
    "code = driver.page_source"
   ]
  },
  {
   "cell_type": "code",
   "execution_count": 12,
   "metadata": {
    "execution": {
     "iopub.execute_input": "2020-10-12T22:53:31.115341Z",
     "iopub.status.busy": "2020-10-12T22:53:31.115092Z",
     "iopub.status.idle": "2020-10-12T22:53:31.118913Z",
     "shell.execute_reply": "2020-10-12T22:53:31.118053Z",
     "shell.execute_reply.started": "2020-10-12T22:53:31.115314Z"
    }
   },
   "outputs": [],
   "source": [
    "from bs4 import BeautifulSoup"
   ]
  },
  {
   "cell_type": "code",
   "execution_count": 13,
   "metadata": {
    "execution": {
     "iopub.execute_input": "2020-10-12T22:53:31.340840Z",
     "iopub.status.busy": "2020-10-12T22:53:31.340564Z",
     "iopub.status.idle": "2020-10-12T22:53:31.412295Z",
     "shell.execute_reply": "2020-10-12T22:53:31.411603Z",
     "shell.execute_reply.started": "2020-10-12T22:53:31.340812Z"
    }
   },
   "outputs": [],
   "source": [
    "soup = BeautifulSoup(code, 'html.parser')"
   ]
  },
  {
   "cell_type": "code",
   "execution_count": 14,
   "metadata": {
    "execution": {
     "iopub.execute_input": "2020-10-12T22:53:31.676994Z",
     "iopub.status.busy": "2020-10-12T22:53:31.676719Z",
     "iopub.status.idle": "2020-10-12T22:53:31.686541Z",
     "shell.execute_reply": "2020-10-12T22:53:31.685428Z",
     "shell.execute_reply.started": "2020-10-12T22:53:31.676968Z"
    }
   },
   "outputs": [],
   "source": [
    "our_table = soup.find_all(\"table\", class_=\"partydata\")"
   ]
  },
  {
   "cell_type": "code",
   "execution_count": null,
   "metadata": {},
   "outputs": [],
   "source": [
    "our_table"
   ]
  },
  {
   "cell_type": "code",
   "execution_count": null,
   "metadata": {},
   "outputs": [],
   "source": []
  }
 ],
 "metadata": {
  "kernelspec": {
   "display_name": "Python 3",
   "language": "python",
   "name": "python3"
  },
  "language_info": {
   "codemirror_mode": {
    "name": "ipython",
    "version": 3
   },
   "file_extension": ".py",
   "mimetype": "text/x-python",
   "name": "python",
   "nbconvert_exporter": "python",
   "pygments_lexer": "ipython3",
   "version": "3.8.5"
  }
 },
 "nbformat": 4,
 "nbformat_minor": 4
}
