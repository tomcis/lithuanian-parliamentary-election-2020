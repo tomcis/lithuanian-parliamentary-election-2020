{
 "cells": [
  {
   "cell_type": "code",
   "execution_count": 1,
   "metadata": {
    "execution": {
     "iopub.execute_input": "2020-10-18T17:13:14.555191Z",
     "iopub.status.busy": "2020-10-18T17:13:14.554904Z",
     "iopub.status.idle": "2020-10-18T17:13:16.266258Z",
     "shell.execute_reply": "2020-10-18T17:13:16.265086Z",
     "shell.execute_reply.started": "2020-10-18T17:13:14.555124Z"
    }
   },
   "outputs": [
    {
     "name": "stdout",
     "output_type": "stream",
     "text": [
      "Requirement already satisfied: chromedriver-binary==v85.0.4183.87.0 in /usr/local/lib/python3.8/site-packages (from -r ../requirements.txt (line 1)) (85.0.4183.87.0)\n",
      "Requirement already satisfied: selenium in /usr/local/lib/python3.8/site-packages (from -r ../requirements.txt (line 2)) (3.141.0)\n",
      "Requirement already satisfied: bs4 in /usr/local/lib/python3.8/site-packages (from -r ../requirements.txt (line 3)) (0.0.1)\n",
      "Requirement already satisfied: lxml in /usr/local/lib/python3.8/site-packages (from -r ../requirements.txt (line 4)) (4.5.2)\n",
      "Requirement already satisfied: urllib3 in /usr/local/lib/python3.8/site-packages (from selenium->-r ../requirements.txt (line 2)) (1.25.10)\n",
      "Requirement already satisfied: beautifulsoup4 in /usr/local/lib/python3.8/site-packages (from bs4->-r ../requirements.txt (line 3)) (4.9.1)\n",
      "Requirement already satisfied: soupsieve>1.2 in /usr/local/lib/python3.8/site-packages (from beautifulsoup4->bs4->-r ../requirements.txt (line 3)) (2.0.1)\n"
     ]
    }
   ],
   "source": [
    "!pip3 install -r ../requirements.txt"
   ]
  },
  {
   "cell_type": "code",
   "execution_count": 2,
   "metadata": {
    "execution": {
     "iopub.execute_input": "2020-10-18T17:13:16.268717Z",
     "iopub.status.busy": "2020-10-18T17:13:16.268451Z",
     "iopub.status.idle": "2020-10-18T17:13:17.114572Z",
     "shell.execute_reply": "2020-10-18T17:13:17.114080Z",
     "shell.execute_reply.started": "2020-10-18T17:13:16.268684Z"
    }
   },
   "outputs": [],
   "source": [
    "import time\n",
    "import pickle\n",
    "\n",
    "import pandas as pd\n",
    "import chromedriver_binary\n",
    "from bs4 import BeautifulSoup\n",
    "from selenium import webdriver"
   ]
  },
  {
   "cell_type": "markdown",
   "metadata": {},
   "source": [
    "## Logging in and retrieving page source code"
   ]
  },
  {
   "cell_type": "code",
   "execution_count": 3,
   "metadata": {
    "execution": {
     "iopub.execute_input": "2020-10-18T17:13:17.116450Z",
     "iopub.status.busy": "2020-10-18T17:13:17.116258Z",
     "iopub.status.idle": "2020-10-18T17:13:17.482129Z",
     "shell.execute_reply": "2020-10-18T17:13:17.481388Z",
     "shell.execute_reply.started": "2020-10-18T17:13:17.116428Z"
    }
   },
   "outputs": [],
   "source": [
    "WINDOW_SIZE = \"1920,1080\"\n",
    "\n",
    "chrome_options = webdriver.chrome.options.Options()\n",
    "chrome_options.add_argument(\"--headless\")\n",
    "chrome_options.add_argument(\"--window-size=%s\" % WINDOW_SIZE)\n",
    "chrome_options.add_argument('--no-sandbox')\n",
    "chrome_options.add_argument('--disable-dev-shm-usage')\n",
    "\n",
    "# specifies the path to the chromedriver.exe\n",
    "driver = webdriver.Chrome(options=chrome_options)"
   ]
  },
  {
   "cell_type": "code",
   "execution_count": 4,
   "metadata": {
    "execution": {
     "iopub.execute_input": "2020-10-18T17:13:17.484434Z",
     "iopub.status.busy": "2020-10-18T17:13:17.484129Z",
     "iopub.status.idle": "2020-10-18T17:13:17.488272Z",
     "shell.execute_reply": "2020-10-18T17:13:17.487442Z",
     "shell.execute_reply.started": "2020-10-18T17:13:17.484401Z"
    }
   },
   "outputs": [],
   "source": [
    "URL = \"https://rezultatai.vrk.lt/\""
   ]
  },
  {
   "cell_type": "code",
   "execution_count": 5,
   "metadata": {
    "execution": {
     "iopub.execute_input": "2020-10-18T17:13:17.489870Z",
     "iopub.status.busy": "2020-10-18T17:13:17.489565Z",
     "iopub.status.idle": "2020-10-18T17:13:21.543273Z",
     "shell.execute_reply": "2020-10-18T17:13:21.542251Z",
     "shell.execute_reply.started": "2020-10-18T17:13:17.489818Z"
    }
   },
   "outputs": [],
   "source": [
    "driver.get(f'{URL}?srcUrl=/rinkimai/1104/1/1746/rezultatai/lt/rezultataiVienm.html')\n",
    "time.sleep(3)"
   ]
  },
  {
   "cell_type": "code",
   "execution_count": 6,
   "metadata": {
    "execution": {
     "iopub.execute_input": "2020-10-18T17:13:21.545431Z",
     "iopub.status.busy": "2020-10-18T17:13:21.545128Z",
     "iopub.status.idle": "2020-10-18T17:13:21.560579Z",
     "shell.execute_reply": "2020-10-18T17:13:21.559670Z",
     "shell.execute_reply.started": "2020-10-18T17:13:21.545400Z"
    }
   },
   "outputs": [],
   "source": [
    "code = driver.page_source"
   ]
  },
  {
   "cell_type": "code",
   "execution_count": 7,
   "metadata": {
    "execution": {
     "iopub.execute_input": "2020-10-18T17:13:21.562391Z",
     "iopub.status.busy": "2020-10-18T17:13:21.562071Z",
     "iopub.status.idle": "2020-10-18T17:13:21.655885Z",
     "shell.execute_reply": "2020-10-18T17:13:21.655143Z",
     "shell.execute_reply.started": "2020-10-18T17:13:21.562363Z"
    }
   },
   "outputs": [],
   "source": [
    "soup = BeautifulSoup(code, 'html.parser')"
   ]
  },
  {
   "cell_type": "code",
   "execution_count": 8,
   "metadata": {
    "execution": {
     "iopub.execute_input": "2020-10-18T17:13:21.659321Z",
     "iopub.status.busy": "2020-10-18T17:13:21.659100Z",
     "iopub.status.idle": "2020-10-18T17:13:21.667866Z",
     "shell.execute_reply": "2020-10-18T17:13:21.667181Z",
     "shell.execute_reply.started": "2020-10-18T17:13:21.659297Z"
    }
   },
   "outputs": [],
   "source": [
    "our_table = soup.find_all(\"table\", class_=\"partydata\")\n",
    "# our_table = str(our_table[1]).strip()"
   ]
  },
  {
   "cell_type": "code",
   "execution_count": 26,
   "metadata": {
    "execution": {
     "iopub.execute_input": "2020-10-18T17:22:08.109395Z",
     "iopub.status.busy": "2020-10-18T17:22:08.109146Z",
     "iopub.status.idle": "2020-10-18T17:22:08.112792Z",
     "shell.execute_reply": "2020-10-18T17:22:08.111967Z",
     "shell.execute_reply.started": "2020-10-18T17:22:08.109368Z"
    }
   },
   "outputs": [],
   "source": [
    "number_of_smds = 100 # SMD (single-member district)\n",
    "sleep_time = 1 # give some time to properly load the page"
   ]
  },
  {
   "cell_type": "code",
   "execution_count": 27,
   "metadata": {
    "execution": {
     "iopub.execute_input": "2020-10-18T17:22:08.633260Z",
     "iopub.status.busy": "2020-10-18T17:22:08.633024Z",
     "iopub.status.idle": "2020-10-18T17:23:41.946644Z",
     "shell.execute_reply": "2020-10-18T17:23:41.945992Z",
     "shell.execute_reply.started": "2020-10-18T17:22:08.633233Z"
    }
   },
   "outputs": [
    {
     "name": "stdout",
     "output_type": "stream",
     "text": [
      "Senamiesčio–Žvėryno (Nr.1) apygarda\n",
      "Naujamiesčio–Naujininkų (Nr.2) apygarda\n",
      "Antakalnio (Nr.3) apygarda\n",
      "Žirmūnų (Nr.4) apygarda\n",
      "Fabijoniškių (Nr.5) apygarda\n",
      "Šeškinės–Šnipiškių (Nr.6) apygarda\n",
      "Justiniškių–Viršuliškių (Nr.7) apygarda\n",
      "Pilaitės–Karoliniškių (Nr.8) apygarda\n",
      "Lazdynų (Nr.9) apygarda\n",
      "Naujosios Vilnios (Nr.10) apygarda\n",
      "Panerių–Grigiškių (Nr.11) apygarda\n",
      "Verkių (Nr.12) apygarda\n",
      "Pašilaičių (Nr.13) apygarda\n",
      "Šilainių (Nr.14) apygarda\n",
      "Kalniečių (Nr.15) apygarda\n",
      "Savanorių (Nr.16) apygarda\n",
      "Petrašiūnų–Gričiupio (Nr.17) apygarda\n",
      "Panemunės (Nr.18) apygarda\n",
      "Aleksoto–Vilijampolės (Nr.19) apygarda\n",
      "Centro–Žaliakalnio (Nr.20) apygarda\n",
      "Marių (Nr.21) apygarda\n",
      "Pajūrio (Nr.22) apygarda\n",
      "Danės (Nr.23) apygarda\n",
      "Baltijos (Nr.24) apygarda\n",
      "Aušros (Nr.25) apygarda\n",
      "Saulės (Nr.26) apygarda\n",
      "Panevėžio vakarinė (Nr.27) apygarda\n",
      "Nevėžio (Nr.28) apygarda\n",
      "Marijampolės (Nr.29) apygarda\n",
      "Alytaus (Nr.30) apygarda\n",
      "Gargždų (Nr.31) apygarda\n",
      "Šilutės (Nr.32) apygarda\n",
      "Aukštaitijos (Nr.33) apygarda\n",
      "Tauragės (Nr.34) apygarda\n",
      "Plungės–Rietavo (Nr.35) apygarda\n",
      "Mėguvos (Nr.36) apygarda\n",
      "Kuršo (Nr.37) apygarda\n",
      "Mažeikių (Nr.38) apygarda\n",
      "Žemaitijos šiaurinė (Nr.39) apygarda\n",
      "Telšių (Nr.40) apygarda\n",
      "Kelmės–Šilalės (Nr.41) apygarda\n",
      "Raseinių–Kėdainių (Nr.42) apygarda\n",
      "Kėdainių (Nr.43) apygarda\n",
      "Radviliškio–Tytuvėnų (Nr.44) apygarda\n",
      "Šiaulių krašto (Nr.45) apygarda\n",
      "Žiemgalos vakarinė (Nr.46) apygarda\n",
      "Žiemgalos rytinė (Nr.47) apygarda\n",
      "Sėlos vakarinė (Nr.48) apygarda\n",
      "Deltuvos šiaurinė (Nr.49) apygarda\n",
      "Sėlos rytinė (Nr.50) apygarda\n",
      "Utenos (Nr.51) apygarda\n",
      "Nalšios šiaurinė (Nr.52) apygarda\n",
      "Nalšios pietinė (Nr.53) apygarda\n",
      "Molėtų–Širvintų (Nr.54) apygarda\n",
      "Nemenčinės (Nr.55) apygarda\n",
      "Šalčininkų–Vilniaus (Nr.56) apygarda\n",
      "Medininkų (Nr.57) apygarda\n",
      "Trakų–Vievio (Nr.58) apygarda\n",
      "Kaišiadorių–Elektrėnų (Nr.59) apygarda\n",
      "Jonavos (Nr.60) apygarda\n",
      "Deltuvos pietinė (Nr.61) apygarda\n",
      "Karšuvos (Nr.62) apygarda\n",
      "Sūduvos pietinė (Nr.63) apygarda\n",
      "Sūduvos šiaurinė (Nr.64) apygarda\n",
      "Raudondvario (Nr.65) apygarda\n",
      "Garliavos (Nr.66) apygarda\n",
      "Dainavos (Nr.67) apygarda\n",
      "Vilkaviškio (Nr.68) apygarda\n",
      "Dzūkijos (Nr.69) apygarda\n",
      "Jotvingių (Nr.70) apygarda\n",
      "Pasaulio lietuvių (Nr.71) apygarda\n"
     ]
    }
   ],
   "source": [
    "dfs = {}\n",
    "for i, each in enumerate(our_table[1].findAll(\"a\")):\n",
    "    if i >= number_of_smds:\n",
    "        break\n",
    "    page = str(each)[9:88]\n",
    "    driver.get(URL + page)\n",
    "    time.sleep(sleep_time)\n",
    "    source_code = driver.page_source\n",
    "    smd = driver.find_elements_by_tag_name(\"h3\")[1].text\n",
    "    print(smd)\n",
    "    dfs[smd] = pd.read_html(str(source_code).strip())[1]"
   ]
  },
  {
   "cell_type": "code",
   "execution_count": 37,
   "metadata": {
    "execution": {
     "iopub.execute_input": "2020-10-18T17:34:34.634610Z",
     "iopub.status.busy": "2020-10-18T17:34:34.634357Z",
     "iopub.status.idle": "2020-10-18T17:34:34.697793Z",
     "shell.execute_reply": "2020-10-18T17:34:34.697052Z",
     "shell.execute_reply.started": "2020-10-18T17:34:34.634581Z"
    }
   },
   "outputs": [],
   "source": [
    "# pickle results from the previous cell to be able to load them next time without a need to scrape\n",
    "with open('sm_districts.pkl', 'wb') as handle:\n",
    "    pickle.dump(dfs, handle, protocol=pickle.HIGHEST_PROTOCOL)"
   ]
  },
  {
   "cell_type": "code",
   "execution_count": 38,
   "metadata": {
    "execution": {
     "iopub.execute_input": "2020-10-18T17:34:35.031956Z",
     "iopub.status.busy": "2020-10-18T17:34:35.031740Z",
     "iopub.status.idle": "2020-10-18T17:34:35.164281Z",
     "shell.execute_reply": "2020-10-18T17:34:35.163555Z",
     "shell.execute_reply.started": "2020-10-18T17:34:35.031931Z"
    }
   },
   "outputs": [],
   "source": [
    "with open('sm_districts.pkl', 'rb') as handle:\n",
    "    dfs = pickle.load(handle)"
   ]
  },
  {
   "cell_type": "code",
   "execution_count": 42,
   "metadata": {
    "execution": {
     "iopub.execute_input": "2020-10-18T17:41:42.799894Z",
     "iopub.status.busy": "2020-10-18T17:41:42.799643Z",
     "iopub.status.idle": "2020-10-18T17:41:42.804173Z",
     "shell.execute_reply": "2020-10-18T17:41:42.803311Z",
     "shell.execute_reply.started": "2020-10-18T17:41:42.799866Z"
    }
   },
   "outputs": [],
   "source": [
    "def extract_best(df):\n",
    "    return (\n",
    "        pd.DataFrame()\n",
    "        .assign(\n",
    "            party=df.iloc[:,1],\n",
    "            percentage=df.iloc[:,6]\n",
    "        )\n",
    "        .iloc[:-1]\n",
    "        .nlargest(2, \"percentage\")\n",
    "    )"
   ]
  },
  {
   "cell_type": "code",
   "execution_count": 44,
   "metadata": {
    "execution": {
     "iopub.execute_input": "2020-10-18T17:42:43.724464Z",
     "iopub.status.busy": "2020-10-18T17:42:43.724176Z",
     "iopub.status.idle": "2020-10-18T17:42:43.886125Z",
     "shell.execute_reply": "2020-10-18T17:42:43.885621Z",
     "shell.execute_reply.started": "2020-10-18T17:42:43.724431Z"
    }
   },
   "outputs": [],
   "source": [
    "for district, results in dfs.items():\n",
    "    dfs[district] = extract_best(results)"
   ]
  },
  {
   "cell_type": "code",
   "execution_count": 12,
   "metadata": {
    "execution": {
     "iopub.execute_input": "2020-10-14T22:17:57.742348Z",
     "iopub.status.busy": "2020-10-14T22:17:57.742021Z",
     "iopub.status.idle": "2020-10-14T22:17:57.745535Z",
     "shell.execute_reply": "2020-10-14T22:17:57.744680Z",
     "shell.execute_reply.started": "2020-10-14T22:17:57.742321Z"
    }
   },
   "outputs": [],
   "source": [
    "# url = 'http://www.vru.gov.ua/act_list'\n",
    "# df = pd.read_html(url)[0]\n",
    "\n",
    "# response = requests.get(url)\n",
    "# soup = BeautifulSoup(response.text, 'html.parser')\n",
    "# table = soup.find('table')\n",
    "\n",
    "# links = []\n",
    "# for tr in table.findAll(\"tr\"):\n",
    "#     trs = tr.findAll(\"td\")\n",
    "#     for each in trs:\n",
    "#         try:\n",
    "#             link = each.find('a')['href']\n",
    "#             links.append(link)\n",
    "#         except:\n",
    "#             pass\n",
    "\n",
    "# df['Link'] = links"
   ]
  },
  {
   "cell_type": "markdown",
   "metadata": {},
   "source": [
    "- kiek apskritai yra desiniuju/kairiuju, kas laimi?\n",
    "- REMOVE BEAUTIFUL SOUP"
   ]
  }
 ],
 "metadata": {
  "kernelspec": {
   "display_name": "Python 3",
   "language": "python",
   "name": "python3"
  },
  "language_info": {
   "codemirror_mode": {
    "name": "ipython",
    "version": 3
   },
   "file_extension": ".py",
   "mimetype": "text/x-python",
   "name": "python",
   "nbconvert_exporter": "python",
   "pygments_lexer": "ipython3",
   "version": "3.8.5"
  }
 },
 "nbformat": 4,
 "nbformat_minor": 4
}
