{
 "cells": [
  {
   "cell_type": "code",
   "execution_count": 1,
   "metadata": {
    "execution": {
     "iopub.execute_input": "2020-10-14T22:17:48.137307Z",
     "iopub.status.busy": "2020-10-14T22:17:48.136859Z",
     "iopub.status.idle": "2020-10-14T22:17:49.607763Z",
     "shell.execute_reply": "2020-10-14T22:17:49.606902Z",
     "shell.execute_reply.started": "2020-10-14T22:17:48.137204Z"
    }
   },
   "outputs": [
    {
     "name": "stdout",
     "output_type": "stream",
     "text": [
      "Requirement already satisfied: chromedriver-binary==v85.0.4183.87.0 in /usr/local/lib/python3.8/site-packages (from -r ../requirements.txt (line 1)) (85.0.4183.87.0)\n",
      "Requirement already satisfied: selenium in /usr/local/lib/python3.8/site-packages (from -r ../requirements.txt (line 2)) (3.141.0)\n",
      "Requirement already satisfied: bs4 in /usr/local/lib/python3.8/site-packages (from -r ../requirements.txt (line 3)) (0.0.1)\n",
      "Requirement already satisfied: lxml in /usr/local/lib/python3.8/site-packages (from -r ../requirements.txt (line 4)) (4.5.2)\n",
      "Requirement already satisfied: urllib3 in /usr/local/lib/python3.8/site-packages (from selenium->-r ../requirements.txt (line 2)) (1.25.10)\n",
      "Requirement already satisfied: beautifulsoup4 in /usr/local/lib/python3.8/site-packages (from bs4->-r ../requirements.txt (line 3)) (4.9.1)\n",
      "Requirement already satisfied: soupsieve>1.2 in /usr/local/lib/python3.8/site-packages (from beautifulsoup4->bs4->-r ../requirements.txt (line 3)) (2.0.1)\n"
     ]
    }
   ],
   "source": [
    "!pip3 install -r ../requirements.txt"
   ]
  },
  {
   "cell_type": "code",
   "execution_count": 2,
   "metadata": {
    "execution": {
     "iopub.execute_input": "2020-10-14T22:17:49.609858Z",
     "iopub.status.busy": "2020-10-14T22:17:49.609627Z",
     "iopub.status.idle": "2020-10-14T22:17:49.995534Z",
     "shell.execute_reply": "2020-10-14T22:17:49.994846Z",
     "shell.execute_reply.started": "2020-10-14T22:17:49.609829Z"
    }
   },
   "outputs": [],
   "source": [
    "import time\n",
    "\n",
    "import pandas as pd\n",
    "import chromedriver_binary\n",
    "from bs4 import BeautifulSoup\n",
    "from selenium import webdriver"
   ]
  },
  {
   "cell_type": "markdown",
   "metadata": {},
   "source": [
    "## Logging in and retrieving page source code"
   ]
  },
  {
   "cell_type": "code",
   "execution_count": 3,
   "metadata": {
    "execution": {
     "iopub.execute_input": "2020-10-14T22:17:49.997731Z",
     "iopub.status.busy": "2020-10-14T22:17:49.997527Z",
     "iopub.status.idle": "2020-10-14T22:17:51.279974Z",
     "shell.execute_reply": "2020-10-14T22:17:51.279316Z",
     "shell.execute_reply.started": "2020-10-14T22:17:49.997705Z"
    }
   },
   "outputs": [],
   "source": [
    "WINDOW_SIZE = \"1920,1080\"\n",
    "\n",
    "chrome_options = webdriver.chrome.options.Options()\n",
    "chrome_options.add_argument(\"--headless\")\n",
    "chrome_options.add_argument(\"--window-size=%s\" % WINDOW_SIZE)\n",
    "chrome_options.add_argument('--no-sandbox')\n",
    "chrome_options.add_argument('--disable-dev-shm-usage')\n",
    "\n",
    "# specifies the path to the chromedriver.exe\n",
    "driver = webdriver.Chrome(options=chrome_options)"
   ]
  },
  {
   "cell_type": "code",
   "execution_count": 4,
   "metadata": {
    "execution": {
     "iopub.execute_input": "2020-10-14T22:17:51.281858Z",
     "iopub.status.busy": "2020-10-14T22:17:51.281662Z",
     "iopub.status.idle": "2020-10-14T22:17:51.285983Z",
     "shell.execute_reply": "2020-10-14T22:17:51.285009Z",
     "shell.execute_reply.started": "2020-10-14T22:17:51.281833Z"
    }
   },
   "outputs": [],
   "source": [
    "URL = \"https://rezultatai.vrk.lt/\""
   ]
  },
  {
   "cell_type": "code",
   "execution_count": 5,
   "metadata": {
    "execution": {
     "iopub.execute_input": "2020-10-14T22:17:51.287697Z",
     "iopub.status.busy": "2020-10-14T22:17:51.287387Z",
     "iopub.status.idle": "2020-10-14T22:17:54.653469Z",
     "shell.execute_reply": "2020-10-14T22:17:54.652557Z",
     "shell.execute_reply.started": "2020-10-14T22:17:51.287654Z"
    }
   },
   "outputs": [],
   "source": [
    "driver.get(f'{URL}?srcUrl=/rinkimai/1104/1/1746/rezultatai/lt/rezultataiVienm.html')\n",
    "time.sleep(3)"
   ]
  },
  {
   "cell_type": "code",
   "execution_count": 6,
   "metadata": {
    "execution": {
     "iopub.execute_input": "2020-10-14T22:17:54.655136Z",
     "iopub.status.busy": "2020-10-14T22:17:54.654710Z",
     "iopub.status.idle": "2020-10-14T22:17:54.670972Z",
     "shell.execute_reply": "2020-10-14T22:17:54.670029Z",
     "shell.execute_reply.started": "2020-10-14T22:17:54.655104Z"
    }
   },
   "outputs": [],
   "source": [
    "code = driver.page_source"
   ]
  },
  {
   "cell_type": "code",
   "execution_count": 7,
   "metadata": {
    "execution": {
     "iopub.execute_input": "2020-10-14T22:17:54.672638Z",
     "iopub.status.busy": "2020-10-14T22:17:54.672288Z",
     "iopub.status.idle": "2020-10-14T22:17:54.772215Z",
     "shell.execute_reply": "2020-10-14T22:17:54.771337Z",
     "shell.execute_reply.started": "2020-10-14T22:17:54.672584Z"
    }
   },
   "outputs": [],
   "source": [
    "soup = BeautifulSoup(code, 'html.parser')"
   ]
  },
  {
   "cell_type": "code",
   "execution_count": 8,
   "metadata": {
    "execution": {
     "iopub.execute_input": "2020-10-14T22:17:54.774875Z",
     "iopub.status.busy": "2020-10-14T22:17:54.774549Z",
     "iopub.status.idle": "2020-10-14T22:17:54.786552Z",
     "shell.execute_reply": "2020-10-14T22:17:54.785801Z",
     "shell.execute_reply.started": "2020-10-14T22:17:54.774844Z"
    }
   },
   "outputs": [],
   "source": [
    "our_table = soup.find_all(\"table\", class_=\"partydata\")\n",
    "# our_table = str(our_table[1]).strip()"
   ]
  },
  {
   "cell_type": "code",
   "execution_count": 9,
   "metadata": {
    "execution": {
     "iopub.execute_input": "2020-10-14T22:17:54.790283Z",
     "iopub.status.busy": "2020-10-14T22:17:54.790015Z",
     "iopub.status.idle": "2020-10-14T22:17:54.794082Z",
     "shell.execute_reply": "2020-10-14T22:17:54.793364Z",
     "shell.execute_reply.started": "2020-10-14T22:17:54.790237Z"
    }
   },
   "outputs": [],
   "source": [
    "number_of_smds = 2 # SMD (single-member district)\n",
    "sleep_time = 1 # give some time to properly load the page"
   ]
  },
  {
   "cell_type": "code",
   "execution_count": 10,
   "metadata": {
    "execution": {
     "iopub.execute_input": "2020-10-14T22:17:54.796103Z",
     "iopub.status.busy": "2020-10-14T22:17:54.795748Z",
     "iopub.status.idle": "2020-10-14T22:17:57.711833Z",
     "shell.execute_reply": "2020-10-14T22:17:57.711266Z",
     "shell.execute_reply.started": "2020-10-14T22:17:54.796070Z"
    }
   },
   "outputs": [
    {
     "name": "stdout",
     "output_type": "stream",
     "text": [
      "Senamiesčio–Žvėryno (Nr.1) apygarda\n",
      "Naujamiesčio–Naujininkų (Nr.2) apygarda\n"
     ]
    }
   ],
   "source": [
    "dfs = {}\n",
    "for i, each in enumerate(our_table[1].findAll(\"a\")):\n",
    "    if i >= number_of_smds:\n",
    "        break\n",
    "    page = str(each)[9:88]\n",
    "    driver.get(URL + page)\n",
    "    time.sleep(sleep_time)\n",
    "    source_code = driver.page_source\n",
    "    smd = driver.find_elements_by_tag_name(\"h3\")[1].text\n",
    "    print(smd)\n",
    "    dfs[smd] = pd.read_html(str(source_code).strip())[1]"
   ]
  },
  {
   "cell_type": "code",
   "execution_count": 11,
   "metadata": {
    "execution": {
     "iopub.execute_input": "2020-10-14T22:17:57.713105Z",
     "iopub.status.busy": "2020-10-14T22:17:57.712836Z",
     "iopub.status.idle": "2020-10-14T22:17:57.740633Z",
     "shell.execute_reply": "2020-10-14T22:17:57.739809Z",
     "shell.execute_reply.started": "2020-10-14T22:17:57.713082Z"
    }
   },
   "outputs": [
    {
     "data": {
      "text/html": [
       "<div>\n",
       "<style scoped>\n",
       "    .dataframe tbody tr th:only-of-type {\n",
       "        vertical-align: middle;\n",
       "    }\n",
       "\n",
       "    .dataframe tbody tr th {\n",
       "        vertical-align: top;\n",
       "    }\n",
       "\n",
       "    .dataframe thead tr th {\n",
       "        text-align: left;\n",
       "    }\n",
       "</style>\n",
       "<table border=\"1\" class=\"dataframe\">\n",
       "  <thead>\n",
       "    <tr>\n",
       "      <th></th>\n",
       "      <th>Kandidatas</th>\n",
       "      <th>Iškėlė</th>\n",
       "      <th colspan=\"6\" halign=\"left\">Paduotų balsų skaičius</th>\n",
       "    </tr>\n",
       "    <tr>\n",
       "      <th></th>\n",
       "      <th>Kandidatas</th>\n",
       "      <th>Iškėlė</th>\n",
       "      <th>apylinkėse</th>\n",
       "      <th>paštu</th>\n",
       "      <th>iš viso</th>\n",
       "      <th>% nuo galiojančių biuletenių</th>\n",
       "      <th>% nuo dalyvavusių rinkėjų</th>\n",
       "      <th>Unnamed: 7_level_1</th>\n",
       "    </tr>\n",
       "  </thead>\n",
       "  <tbody>\n",
       "    <tr>\n",
       "      <th>0</th>\n",
       "      <td>Žygimantas PAVILIONIS</td>\n",
       "      <td>Tėvynės sąjunga – Lietuvos krikščionys demokratai</td>\n",
       "      <td>4179</td>\n",
       "      <td>1206</td>\n",
       "      <td>5385</td>\n",
       "      <td>3231</td>\n",
       "      <td>3108</td>\n",
       "      <td>NaN</td>\n",
       "    </tr>\n",
       "    <tr>\n",
       "      <th>1</th>\n",
       "      <td>Tomas Vytautas RASKEVIČIUS</td>\n",
       "      <td>Laisvės partija</td>\n",
       "      <td>1836</td>\n",
       "      <td>557</td>\n",
       "      <td>2393</td>\n",
       "      <td>1436</td>\n",
       "      <td>1381</td>\n",
       "      <td>NaN</td>\n",
       "    </tr>\n",
       "    <tr>\n",
       "      <th>2</th>\n",
       "      <td>Virgilijus ALEKNA</td>\n",
       "      <td>Lietuvos Respublikos liberalų sąjūdis</td>\n",
       "      <td>1359</td>\n",
       "      <td>289</td>\n",
       "      <td>1648</td>\n",
       "      <td>989</td>\n",
       "      <td>951</td>\n",
       "      <td>NaN</td>\n",
       "    </tr>\n",
       "    <tr>\n",
       "      <th>3</th>\n",
       "      <td>Artūras MELIANAS</td>\n",
       "      <td>Lietuvos žaliųjų partija</td>\n",
       "      <td>1380</td>\n",
       "      <td>171</td>\n",
       "      <td>1551</td>\n",
       "      <td>931</td>\n",
       "      <td>895</td>\n",
       "      <td>NaN</td>\n",
       "    </tr>\n",
       "    <tr>\n",
       "      <th>4</th>\n",
       "      <td>Dmitrij IKONIKOV</td>\n",
       "      <td>Lietuvos lenkų rinkimų akcija - Krikščioniškų ...</td>\n",
       "      <td>1275</td>\n",
       "      <td>150</td>\n",
       "      <td>1425</td>\n",
       "      <td>855</td>\n",
       "      <td>822</td>\n",
       "      <td>NaN</td>\n",
       "    </tr>\n",
       "    <tr>\n",
       "      <th>5</th>\n",
       "      <td>Ieva KAČINSKAITĖ-URBONIENĖ</td>\n",
       "      <td>Darbo partija</td>\n",
       "      <td>1060</td>\n",
       "      <td>147</td>\n",
       "      <td>1207</td>\n",
       "      <td>724</td>\n",
       "      <td>697</td>\n",
       "      <td>NaN</td>\n",
       "    </tr>\n",
       "    <tr>\n",
       "      <th>6</th>\n",
       "      <td>Tomas SEIKALIS</td>\n",
       "      <td>Lietuvos valstiečių ir žaliųjų sąjunga</td>\n",
       "      <td>912</td>\n",
       "      <td>148</td>\n",
       "      <td>1060</td>\n",
       "      <td>636</td>\n",
       "      <td>612</td>\n",
       "      <td>NaN</td>\n",
       "    </tr>\n",
       "    <tr>\n",
       "      <th>7</th>\n",
       "      <td>Antanas VALIONIS</td>\n",
       "      <td>Lietuvos socialdemokratų partija</td>\n",
       "      <td>776</td>\n",
       "      <td>173</td>\n",
       "      <td>949</td>\n",
       "      <td>569</td>\n",
       "      <td>548</td>\n",
       "      <td>NaN</td>\n",
       "    </tr>\n",
       "    <tr>\n",
       "      <th>8</th>\n",
       "      <td>Rita LATVYTĖ</td>\n",
       "      <td>Partija „Laisvė ir teisingumas“</td>\n",
       "      <td>242</td>\n",
       "      <td>53</td>\n",
       "      <td>295</td>\n",
       "      <td>177</td>\n",
       "      <td>170</td>\n",
       "      <td>NaN</td>\n",
       "    </tr>\n",
       "    <tr>\n",
       "      <th>9</th>\n",
       "      <td>Vida MARTIŠIENĖ</td>\n",
       "      <td>Lietuvos socialdemokratų darbo partija</td>\n",
       "      <td>187</td>\n",
       "      <td>40</td>\n",
       "      <td>227</td>\n",
       "      <td>136</td>\n",
       "      <td>131</td>\n",
       "      <td>NaN</td>\n",
       "    </tr>\n",
       "    <tr>\n",
       "      <th>10</th>\n",
       "      <td>Astra Genovaitė ASTRAUSKAITĖ</td>\n",
       "      <td>Centro partija - tautininkai</td>\n",
       "      <td>173</td>\n",
       "      <td>44</td>\n",
       "      <td>217</td>\n",
       "      <td>130</td>\n",
       "      <td>125</td>\n",
       "      <td>NaN</td>\n",
       "    </tr>\n",
       "    <tr>\n",
       "      <th>11</th>\n",
       "      <td>Adas DARINSKAS</td>\n",
       "      <td>Partija LIETUVA – VISŲ</td>\n",
       "      <td>167</td>\n",
       "      <td>17</td>\n",
       "      <td>184</td>\n",
       "      <td>110</td>\n",
       "      <td>106</td>\n",
       "      <td>NaN</td>\n",
       "    </tr>\n",
       "    <tr>\n",
       "      <th>12</th>\n",
       "      <td>Garri SERBUL</td>\n",
       "      <td>Krikščionių sąjunga</td>\n",
       "      <td>108</td>\n",
       "      <td>17</td>\n",
       "      <td>125</td>\n",
       "      <td>75</td>\n",
       "      <td>72</td>\n",
       "      <td>NaN</td>\n",
       "    </tr>\n",
       "    <tr>\n",
       "      <th>13</th>\n",
       "      <td>NaN</td>\n",
       "      <td>Iš viso</td>\n",
       "      <td>13654</td>\n",
       "      <td>3012</td>\n",
       "      <td>16666</td>\n",
       "      <td>10000</td>\n",
       "      <td>9618</td>\n",
       "      <td>NaN</td>\n",
       "    </tr>\n",
       "  </tbody>\n",
       "</table>\n",
       "</div>"
      ],
      "text/plain": [
       "                      Kandidatas  \\\n",
       "                      Kandidatas   \n",
       "0          Žygimantas PAVILIONIS   \n",
       "1     Tomas Vytautas RASKEVIČIUS   \n",
       "2              Virgilijus ALEKNA   \n",
       "3               Artūras MELIANAS   \n",
       "4               Dmitrij IKONIKOV   \n",
       "5     Ieva KAČINSKAITĖ-URBONIENĖ   \n",
       "6                 Tomas SEIKALIS   \n",
       "7               Antanas VALIONIS   \n",
       "8                   Rita LATVYTĖ   \n",
       "9                Vida MARTIŠIENĖ   \n",
       "10  Astra Genovaitė ASTRAUSKAITĖ   \n",
       "11                Adas DARINSKAS   \n",
       "12                  Garri SERBUL   \n",
       "13                           NaN   \n",
       "\n",
       "                                               Iškėlė Paduotų balsų skaičius  \\\n",
       "                                               Iškėlė             apylinkėse   \n",
       "0   Tėvynės sąjunga – Lietuvos krikščionys demokratai                   4179   \n",
       "1                                     Laisvės partija                   1836   \n",
       "2               Lietuvos Respublikos liberalų sąjūdis                   1359   \n",
       "3                            Lietuvos žaliųjų partija                   1380   \n",
       "4   Lietuvos lenkų rinkimų akcija - Krikščioniškų ...                   1275   \n",
       "5                                       Darbo partija                   1060   \n",
       "6              Lietuvos valstiečių ir žaliųjų sąjunga                    912   \n",
       "7                    Lietuvos socialdemokratų partija                    776   \n",
       "8                     Partija „Laisvė ir teisingumas“                    242   \n",
       "9              Lietuvos socialdemokratų darbo partija                    187   \n",
       "10                       Centro partija - tautininkai                    173   \n",
       "11                             Partija LIETUVA – VISŲ                    167   \n",
       "12                                Krikščionių sąjunga                    108   \n",
       "13                                            Iš viso                  13654   \n",
       "\n",
       "                                                                         \\\n",
       "   paštu iš viso % nuo galiojančių biuletenių % nuo dalyvavusių rinkėjų   \n",
       "0   1206    5385                         3231                      3108   \n",
       "1    557    2393                         1436                      1381   \n",
       "2    289    1648                          989                       951   \n",
       "3    171    1551                          931                       895   \n",
       "4    150    1425                          855                       822   \n",
       "5    147    1207                          724                       697   \n",
       "6    148    1060                          636                       612   \n",
       "7    173     949                          569                       548   \n",
       "8     53     295                          177                       170   \n",
       "9     40     227                          136                       131   \n",
       "10    44     217                          130                       125   \n",
       "11    17     184                          110                       106   \n",
       "12    17     125                           75                        72   \n",
       "13  3012   16666                        10000                      9618   \n",
       "\n",
       "                       \n",
       "   Unnamed: 7_level_1  \n",
       "0                 NaN  \n",
       "1                 NaN  \n",
       "2                 NaN  \n",
       "3                 NaN  \n",
       "4                 NaN  \n",
       "5                 NaN  \n",
       "6                 NaN  \n",
       "7                 NaN  \n",
       "8                 NaN  \n",
       "9                 NaN  \n",
       "10                NaN  \n",
       "11                NaN  \n",
       "12                NaN  \n",
       "13                NaN  "
      ]
     },
     "execution_count": 11,
     "metadata": {},
     "output_type": "execute_result"
    }
   ],
   "source": [
    "list(dfs.values())[1]"
   ]
  },
  {
   "cell_type": "code",
   "execution_count": 12,
   "metadata": {
    "execution": {
     "iopub.execute_input": "2020-10-14T22:17:57.742348Z",
     "iopub.status.busy": "2020-10-14T22:17:57.742021Z",
     "iopub.status.idle": "2020-10-14T22:17:57.745535Z",
     "shell.execute_reply": "2020-10-14T22:17:57.744680Z",
     "shell.execute_reply.started": "2020-10-14T22:17:57.742321Z"
    }
   },
   "outputs": [],
   "source": [
    "# url = 'http://www.vru.gov.ua/act_list'\n",
    "# df = pd.read_html(url)[0]\n",
    "\n",
    "# response = requests.get(url)\n",
    "# soup = BeautifulSoup(response.text, 'html.parser')\n",
    "# table = soup.find('table')\n",
    "\n",
    "# links = []\n",
    "# for tr in table.findAll(\"tr\"):\n",
    "#     trs = tr.findAll(\"td\")\n",
    "#     for each in trs:\n",
    "#         try:\n",
    "#             link = each.find('a')['href']\n",
    "#             links.append(link)\n",
    "#         except:\n",
    "#             pass\n",
    "\n",
    "# df['Link'] = links"
   ]
  },
  {
   "cell_type": "markdown",
   "metadata": {},
   "source": [
    "- kiek apskritai yra desiniuju/kairiuju, kas laimi?\n",
    "- REMOVE BEAUTIFUL SOUP"
   ]
  }
 ],
 "metadata": {
  "kernelspec": {
   "display_name": "Python 3",
   "language": "python",
   "name": "python3"
  },
  "language_info": {
   "codemirror_mode": {
    "name": "ipython",
    "version": 3
   },
   "file_extension": ".py",
   "mimetype": "text/x-python",
   "name": "python",
   "nbconvert_exporter": "python",
   "pygments_lexer": "ipython3",
   "version": "3.8.5"
  }
 },
 "nbformat": 4,
 "nbformat_minor": 4
}
