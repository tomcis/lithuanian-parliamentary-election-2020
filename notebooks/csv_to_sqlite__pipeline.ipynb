{
 "cells": [
  {
   "cell_type": "code",
   "execution_count": 1,
   "metadata": {
    "execution": {
     "iopub.execute_input": "2020-07-19T19:13:17.368293Z",
     "iopub.status.busy": "2020-07-19T19:13:17.368010Z",
     "iopub.status.idle": "2020-07-19T19:13:18.068769Z",
     "shell.execute_reply": "2020-07-19T19:13:18.067905Z",
     "shell.execute_reply.started": "2020-07-19T19:13:17.368250Z"
    }
   },
   "outputs": [],
   "source": [
    "import pandas as pd\n",
    "from sqlalchemy import create_engine"
   ]
  },
  {
   "cell_type": "code",
   "execution_count": 2,
   "metadata": {
    "execution": {
     "iopub.execute_input": "2020-07-19T19:13:18.070619Z",
     "iopub.status.busy": "2020-07-19T19:13:18.070365Z",
     "iopub.status.idle": "2020-07-19T19:13:18.083259Z",
     "shell.execute_reply": "2020-07-19T19:13:18.082349Z",
     "shell.execute_reply.started": "2020-07-19T19:13:18.070577Z"
    }
   },
   "outputs": [],
   "source": [
    "engine = create_engine('sqlite:///parliamentary_candidates.db', echo=False)"
   ]
  },
  {
   "cell_type": "code",
   "execution_count": 3,
   "metadata": {
    "execution": {
     "iopub.execute_input": "2020-07-19T19:13:18.851013Z",
     "iopub.status.busy": "2020-07-19T19:13:18.850781Z",
     "iopub.status.idle": "2020-07-19T19:13:18.894580Z",
     "shell.execute_reply": "2020-07-19T19:13:18.893700Z",
     "shell.execute_reply.started": "2020-07-19T19:13:18.850977Z"
    }
   },
   "outputs": [],
   "source": [
    "pd.read_csv(\"../data/seimas_2016.csv\").to_sql('parliamentary_candidates', con=engine)"
   ]
  },
  {
   "cell_type": "code",
   "execution_count": null,
   "metadata": {},
   "outputs": [],
   "source": []
  }
 ],
 "metadata": {
  "kernelspec": {
   "display_name": "Python 3",
   "language": "python",
   "name": "python3"
  },
  "language_info": {
   "codemirror_mode": {
    "name": "ipython",
    "version": 3
   },
   "file_extension": ".py",
   "mimetype": "text/x-python",
   "name": "python",
   "nbconvert_exporter": "python",
   "pygments_lexer": "ipython3",
   "version": "3.7.7"
  }
 },
 "nbformat": 4,
 "nbformat_minor": 4
}